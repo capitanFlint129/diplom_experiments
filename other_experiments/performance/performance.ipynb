{
 "cells": [
  {
   "cell_type": "code",
   "execution_count": 2,
   "id": "231a6ce3-c308-42a2-b053-03235d7d83a7",
   "metadata": {},
   "outputs": [],
   "source": [
    "import compiler_gym as cg\n",
    "from compiler_gym.wrappers import RuntimePointEstimateReward"
   ]
  },
  {
   "cell_type": "markdown",
   "id": "c0f64f6d-b268-4edf-a550-c8970be9cbce",
   "metadata": {},
   "source": [
    "\"Runtime\" observation"
   ]
  },
  {
   "cell_type": "code",
   "execution_count": 4,
   "id": "62ce6e86-8fee-4974-8879-23cf29f93b77",
   "metadata": {},
   "outputs": [],
   "source": [
    "env = cg.make(\n",
    "    \"llvm-v0\",\n",
    "    reward_space=\"IrInstructionCountOz\",\n",
    ")"
   ]
  },
  {
   "cell_type": "code",
   "execution_count": 19,
   "id": "a0ee6a4f-8f91-4322-8ba6-e141df0b7e2e",
   "metadata": {},
   "outputs": [
    {
     "data": {
      "text/plain": [
       "[benchmark://cbench-v1/adpcm,\n",
       " benchmark://cbench-v1/bitcount,\n",
       " benchmark://cbench-v1/blowfish,\n",
       " benchmark://cbench-v1/bzip2,\n",
       " benchmark://cbench-v1/crc32,\n",
       " benchmark://cbench-v1/dijkstra,\n",
       " benchmark://cbench-v1/ghostscript,\n",
       " benchmark://cbench-v1/gsm,\n",
       " benchmark://cbench-v1/ispell,\n",
       " benchmark://cbench-v1/jpeg-c,\n",
       " benchmark://cbench-v1/jpeg-d,\n",
       " benchmark://cbench-v1/lame,\n",
       " benchmark://cbench-v1/patricia,\n",
       " benchmark://cbench-v1/qsort,\n",
       " benchmark://cbench-v1/rijndael,\n",
       " benchmark://cbench-v1/sha,\n",
       " benchmark://cbench-v1/stringsearch,\n",
       " benchmark://cbench-v1/stringsearch2,\n",
       " benchmark://cbench-v1/susan,\n",
       " benchmark://cbench-v1/tiff2bw,\n",
       " benchmark://cbench-v1/tiff2rgba,\n",
       " benchmark://cbench-v1/tiffdither,\n",
       " benchmark://cbench-v1/tiffmedian]"
      ]
     },
     "execution_count": 19,
     "metadata": {},
     "output_type": "execute_result"
    }
   ],
   "source": [
    "list(env.datasets[\"cbench-v1\"].benchmarks())"
   ]
  },
  {
   "cell_type": "code",
   "execution_count": 25,
   "id": "ceec715f-b4b9-4c08-8bd9-7967fec7fb6b",
   "metadata": {},
   "outputs": [],
   "source": [
    "# env.reset(\"benchmark://cbench-v1/qsort\")\n",
    "env.reset(\"benchmark://cbench-v1/tiff2bw\")"
   ]
  },
  {
   "cell_type": "code",
   "execution_count": 26,
   "id": "d458f0f7-8448-4205-a93d-003742d46484",
   "metadata": {},
   "outputs": [
    {
     "data": {
      "text/plain": [
       "True"
      ]
     },
     "execution_count": 26,
     "metadata": {},
     "output_type": "execute_result"
    }
   ],
   "source": [
    "env.observation[\"IsRunnable\"]"
   ]
  },
  {
   "cell_type": "code",
   "execution_count": 31,
   "id": "0c917836-a4e3-41f2-a98b-be3a233aeb87",
   "metadata": {},
   "outputs": [
    {
     "data": {
      "text/plain": [
       "['Autophase',\n",
       " 'AutophaseDict',\n",
       " 'Bitcode',\n",
       " 'BitcodeFile',\n",
       " 'Buildtime',\n",
       " 'CpuInfo',\n",
       " 'Inst2vec',\n",
       " 'Inst2vecEmbeddingIndices',\n",
       " 'Inst2vecPreprocessedText',\n",
       " 'InstCount',\n",
       " 'InstCountDict',\n",
       " 'InstCountNorm',\n",
       " 'InstCountNormDict',\n",
       " 'Ir',\n",
       " 'IrInstructionCount',\n",
       " 'IrInstructionCountO0',\n",
       " 'IrInstructionCountO3',\n",
       " 'IrInstructionCountOz',\n",
       " 'IrSha1',\n",
       " 'IsBuildable',\n",
       " 'IsRunnable',\n",
       " 'LexedIr',\n",
       " 'LexedIrTuple',\n",
       " 'ObjectTextSizeBytes',\n",
       " 'ObjectTextSizeO0',\n",
       " 'ObjectTextSizeO3',\n",
       " 'ObjectTextSizeOz',\n",
       " 'Programl',\n",
       " 'ProgramlJson',\n",
       " 'Runtime',\n",
       " 'TextSizeBytes',\n",
       " 'TextSizeO0',\n",
       " 'TextSizeO3',\n",
       " 'TextSizeOz',\n",
       " '__class__',\n",
       " '__delattr__',\n",
       " '__dict__',\n",
       " '__dir__',\n",
       " '__doc__',\n",
       " '__eq__',\n",
       " '__format__',\n",
       " '__ge__',\n",
       " '__getattribute__',\n",
       " '__getitem__',\n",
       " '__gt__',\n",
       " '__hash__',\n",
       " '__init__',\n",
       " '__init_subclass__',\n",
       " '__le__',\n",
       " '__lt__',\n",
       " '__module__',\n",
       " '__ne__',\n",
       " '__new__',\n",
       " '__reduce__',\n",
       " '__reduce_ex__',\n",
       " '__repr__',\n",
       " '__setattr__',\n",
       " '__sizeof__',\n",
       " '__str__',\n",
       " '__subclasshook__',\n",
       " '__weakref__',\n",
       " '_add_space',\n",
       " '_raw_step',\n",
       " 'add_derived_space',\n",
       " 'session_id',\n",
       " 'spaces']"
      ]
     },
     "execution_count": 31,
     "metadata": {},
     "output_type": "execute_result"
    }
   ],
   "source": [
    "dir(env.observation)"
   ]
  },
  {
   "cell_type": "code",
   "execution_count": 27,
   "id": "2e7c05b4-4287-4dd0-bef3-989a6db24f52",
   "metadata": {},
   "outputs": [
    {
     "data": {
      "text/plain": [
       "array([0.004478])"
      ]
     },
     "execution_count": 27,
     "metadata": {},
     "output_type": "execute_result"
    }
   ],
   "source": [
    "env.observation[\"Runtime\"]"
   ]
  },
  {
   "cell_type": "code",
   "execution_count": null,
   "id": "412d93fe-3540-4395-b3c4-b718ad26e064",
   "metadata": {},
   "outputs": [],
   "source": []
  },
  {
   "cell_type": "code",
   "execution_count": null,
   "id": "e2d2700f-3bbb-4afd-8c9b-8a1c3015201d",
   "metadata": {},
   "outputs": [],
   "source": []
  },
  {
   "cell_type": "code",
   "execution_count": null,
   "id": "b38c4df7-96d3-468e-9c32-7b6e4d8af5e5",
   "metadata": {},
   "outputs": [],
   "source": []
  },
  {
   "cell_type": "code",
   "execution_count": null,
   "id": "6521be3e-628e-4ddc-b596-b6556809205b",
   "metadata": {},
   "outputs": [],
   "source": [
    "env.close()"
   ]
  }
 ],
 "metadata": {
  "kernelspec": {
   "display_name": "diplom_venv",
   "language": "python",
   "name": "diplom_venv"
  },
  "language_info": {
   "codemirror_mode": {
    "name": "ipython",
    "version": 3
   },
   "file_extension": ".py",
   "mimetype": "text/x-python",
   "name": "python",
   "nbconvert_exporter": "python",
   "pygments_lexer": "ipython3",
   "version": "3.9.2"
  }
 },
 "nbformat": 4,
 "nbformat_minor": 5
}
