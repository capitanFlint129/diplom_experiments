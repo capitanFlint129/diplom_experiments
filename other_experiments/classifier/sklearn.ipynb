{
 "cells": [
  {
   "cell_type": "code",
   "execution_count": 61,
   "id": "2ae4bfee-3046-4503-9e2a-8b77ce533784",
   "metadata": {},
   "outputs": [],
   "source": [
    "import sys\n",
    "sys.path.append('/home/flint/diplom/experiments')"
   ]
  },
  {
   "cell_type": "code",
   "execution_count": 62,
   "id": "f432b1bc-ffbb-4436-ab34-d1a0f12da454",
   "metadata": {},
   "outputs": [
    {
     "name": "stdout",
     "output_type": "stream",
     "text": [
      "/home/flint/diplom/experiments/other_experiments/classifier\n",
      "15_lstm_ir2vec_instcount_autophase_mca_insts_bigger_model_161.npz\n",
      "best_model_insts-229-232.npz\n",
      "best_model_insts-229.npz\n",
      "best_model_mca-228.npz\n",
      "best_model_runtime-230.npz\n",
      "dataset.npz\n",
      "dummy-1zd1qkfp.npz\n",
      "dummy-27ym4g2x.npz\n",
      "dummy-5hq36a52.npz\n",
      "dummy-dfg4u2y1.npz\n"
     ]
    }
   ],
   "source": [
    "!pwd\n",
    "!ls /home/flint/diplom/experiments/_dataset"
   ]
  },
  {
   "cell_type": "code",
   "execution_count": 63,
   "id": "48a4c94d-ba08-413c-93e1-d1c5104b2b7b",
   "metadata": {},
   "outputs": [],
   "source": [
    "import numpy as np"
   ]
  },
  {
   "cell_type": "code",
   "execution_count": 64,
   "id": "2f6d4c20-4cc9-4463-a15a-7a3ba9c9cf1e",
   "metadata": {},
   "outputs": [],
   "source": [
    "# MODEL_NAME = \"best_model_insts-229\"\n",
    "MODEL_NAME = \"15_lstm_ir2vec_instcount_autophase_mca_insts_bigger_model_161\""
   ]
  },
  {
   "cell_type": "code",
   "execution_count": 65,
   "id": "32e13e36-c198-4caf-aa3d-b4c3ff908e53",
   "metadata": {},
   "outputs": [],
   "source": [
    "from dataset import Dataset\n",
    "\n",
    "dataset = Dataset.from_path(f\"/home/flint/diplom/experiments/_dataset/{MODEL_NAME}.npz\")\n",
    "# dataset = Dataset.from_path(f\"/home/flint/diplom/experiments/_dataset/{MODEL_NAME}.npz\")"
   ]
  },
  {
   "cell_type": "code",
   "execution_count": 66,
   "id": "4b86faaf-046f-41e7-a0e9-8a3a2fe7303b",
   "metadata": {},
   "outputs": [],
   "source": [
    "# dataset._x = dataset._x[:, 3:-1]\n",
    "dataset._x = dataset._x[:, 303:-1]"
   ]
  },
  {
   "cell_type": "code",
   "execution_count": 67,
   "id": "6c2490f7-7dd3-4a67-9fa6-688959d135b7",
   "metadata": {},
   "outputs": [
    {
     "data": {
      "text/plain": [
       "(1101, 125)"
      ]
     },
     "execution_count": 67,
     "metadata": {},
     "output_type": "execute_result"
    }
   ],
   "source": [
    "dataset._x.shape"
   ]
  },
  {
   "cell_type": "code",
   "execution_count": 68,
   "id": "f8e0d403-61b7-4dfd-b036-fc33ae4c39a9",
   "metadata": {},
   "outputs": [
    {
     "data": {
      "text/plain": [
       "array([0.13793103, 0.12643678, 0.06896552, 0.05747126, 0.01149425])"
      ]
     },
     "execution_count": 68,
     "metadata": {},
     "output_type": "execute_result"
    }
   ],
   "source": [
    "dataset._x[0, :5]"
   ]
  },
  {
   "cell_type": "code",
   "execution_count": 69,
   "id": "c9936b0b-ee22-46ed-9cea-4b6cc06273e9",
   "metadata": {},
   "outputs": [
    {
     "data": {
      "text/plain": [
       "(1101, 4)"
      ]
     },
     "execution_count": 69,
     "metadata": {},
     "output_type": "execute_result"
    }
   ],
   "source": [
    "dataset._y.shape"
   ]
  },
  {
   "cell_type": "code",
   "execution_count": 70,
   "id": "a2f249a5-70b0-4d29-8ff2-97cccad895e2",
   "metadata": {},
   "outputs": [
    {
     "data": {
      "text/plain": [
       "Counter({3: 579, 1: 436, 0: 86})"
      ]
     },
     "execution_count": 70,
     "metadata": {},
     "output_type": "execute_result"
    }
   ],
   "source": [
    "from collections import Counter\n",
    "\n",
    "Counter(dataset._y[:, ::-1].argmax(axis=1))"
   ]
  },
  {
   "cell_type": "code",
   "execution_count": 71,
   "id": "75601666-4952-451c-b997-d05706bc6771",
   "metadata": {},
   "outputs": [],
   "source": [
    "# sum(dataset._y[:, 1] < dataset._y[:, 2])"
   ]
  },
  {
   "cell_type": "code",
   "execution_count": 84,
   "id": "98e65ef4-0178-4cc3-a50d-4bec45836eb7",
   "metadata": {},
   "outputs": [],
   "source": [
    "X = dataset._x\n",
    "y = dataset._y[:, 2] - dataset._y[:, 3] > dataset._y[:, 0] * 0.0003\n",
    "# y = dataset._y[:, 2] < dataset._y[:, 3]"
   ]
  },
  {
   "cell_type": "code",
   "execution_count": 85,
   "id": "2a554b46-f152-461f-8072-08eea2dfceab",
   "metadata": {},
   "outputs": [
    {
     "data": {
      "text/plain": [
       "0.31970935513169846"
      ]
     },
     "execution_count": 85,
     "metadata": {},
     "output_type": "execute_result"
    }
   ],
   "source": [
    "y.mean()"
   ]
  },
  {
   "cell_type": "code",
   "execution_count": 86,
   "id": "cf71c9a9-2216-4152-a56b-2b53f4a6734b",
   "metadata": {},
   "outputs": [],
   "source": [
    "from sklearn.model_selection import train_test_split\n",
    "\n",
    "X_train, X_test, y_train, y_test = train_test_split(X, y, test_size=0.2, random_state=42)"
   ]
  },
  {
   "cell_type": "code",
   "execution_count": 87,
   "id": "a593f875-707e-448f-9e78-f8f29f576e68",
   "metadata": {},
   "outputs": [
    {
     "data": {
      "text/plain": [
       "0.3261363636363636"
      ]
     },
     "execution_count": 87,
     "metadata": {},
     "output_type": "execute_result"
    }
   ],
   "source": [
    "y_train.mean()"
   ]
  },
  {
   "cell_type": "code",
   "execution_count": 88,
   "id": "aeebe22d-79e7-4330-ab79-ec34ba81e4eb",
   "metadata": {},
   "outputs": [
    {
     "data": {
      "text/plain": [
       "0.29411764705882354"
      ]
     },
     "execution_count": 88,
     "metadata": {},
     "output_type": "execute_result"
    }
   ],
   "source": [
    "y_test.mean()"
   ]
  },
  {
   "cell_type": "code",
   "execution_count": 89,
   "id": "f761c2bc-c614-4fc3-a38a-cffe96f78568",
   "metadata": {},
   "outputs": [],
   "source": [
    "from sklearn.preprocessing import MinMaxScaler\n",
    "\n",
    "scaler = MinMaxScaler()\n",
    "scaler = scaler.fit(X_train)"
   ]
  },
  {
   "cell_type": "code",
   "execution_count": 90,
   "id": "bc8987e8-9057-4630-99e0-bfe720bd0f41",
   "metadata": {},
   "outputs": [],
   "source": [
    "X_train = scaler.transform(X_train)\n",
    "X_test = scaler.transform(X_test)"
   ]
  },
  {
   "cell_type": "code",
   "execution_count": 91,
   "id": "86855f44-c584-43cf-a5a7-052aae2401ed",
   "metadata": {},
   "outputs": [],
   "source": [
    "from sklearn.linear_model import LogisticRegression\n",
    "from sklearn.neural_network import MLPClassifier\n",
    "\n",
    "# clf = LogisticRegression(random_state=0).fit(X_train, y_train)\n",
    "clf = MLPClassifier(hidden_layer_sizes=(100, 100), random_state=1, \n",
    "                    max_iter=500\n",
    "                   ).fit(X_train, y_train)"
   ]
  },
  {
   "cell_type": "code",
   "execution_count": 92,
   "id": "7e5f122a-7c5b-408b-9527-64e41212d5e4",
   "metadata": {},
   "outputs": [
    {
     "data": {
      "text/plain": [
       "0.9897727272727272"
      ]
     },
     "execution_count": 92,
     "metadata": {},
     "output_type": "execute_result"
    }
   ],
   "source": [
    "clf.score(X_train, y_train)"
   ]
  },
  {
   "cell_type": "code",
   "execution_count": 93,
   "id": "2557edcc-9041-40e9-a860-ad55ad1b183f",
   "metadata": {},
   "outputs": [
    {
     "data": {
      "text/plain": [
       "0.9230769230769231"
      ]
     },
     "execution_count": 93,
     "metadata": {},
     "output_type": "execute_result"
    }
   ],
   "source": [
    "clf.score(X_test, y_test)"
   ]
  },
  {
   "cell_type": "code",
   "execution_count": 94,
   "id": "4b536409-1ed7-4702-9fba-3e2970aab227",
   "metadata": {},
   "outputs": [],
   "source": [
    "from sklearn.metrics import precision_score, recall_score, accuracy_score, roc_auc_score"
   ]
  },
  {
   "cell_type": "code",
   "execution_count": 95,
   "id": "5a63f918-9646-4cbc-af4d-5e7aef6f9c6b",
   "metadata": {},
   "outputs": [
    {
     "data": {
      "text/plain": [
       "(221, 125)"
      ]
     },
     "execution_count": 95,
     "metadata": {},
     "output_type": "execute_result"
    }
   ],
   "source": [
    "X_test.shape"
   ]
  },
  {
   "cell_type": "code",
   "execution_count": 96,
   "id": "f1855f8c-e3b0-4e99-b8bd-793f572c2604",
   "metadata": {},
   "outputs": [],
   "source": [
    "y_pred = clf.predict_proba(X_test)\n",
    "# y_pred = clf.predict(X_test)\n",
    "y_pred = y_pred[:, 1] > 0.1"
   ]
  },
  {
   "cell_type": "code",
   "execution_count": 97,
   "id": "2d29a19a-cc74-4fce-b9b6-5059bf278f41",
   "metadata": {},
   "outputs": [
    {
     "data": {
      "text/plain": [
       "array([ True,  True,  True,  True,  True, False, False,  True, False,\n",
       "       False,  True, False, False,  True, False,  True, False, False,\n",
       "       False, False,  True,  True,  True, False, False, False,  True,\n",
       "       False,  True, False, False,  True, False, False, False, False,\n",
       "       False,  True, False, False, False, False, False,  True,  True,\n",
       "       False, False, False, False,  True,  True, False, False, False,\n",
       "        True, False, False, False, False, False, False, False,  True,\n",
       "       False,  True, False, False,  True,  True,  True, False, False,\n",
       "       False, False, False, False,  True,  True, False,  True, False,\n",
       "       False, False, False,  True, False,  True,  True, False,  True,\n",
       "       False, False, False, False, False, False, False, False,  True,\n",
       "       False, False, False,  True,  True,  True, False, False, False,\n",
       "       False,  True,  True,  True, False, False, False,  True, False,\n",
       "       False, False, False,  True,  True, False,  True,  True, False,\n",
       "       False,  True, False,  True, False, False, False, False, False,\n",
       "       False,  True,  True, False, False, False, False, False, False,\n",
       "        True, False, False, False,  True, False, False, False, False,\n",
       "       False, False, False,  True, False, False, False, False, False,\n",
       "       False, False,  True, False, False, False, False, False, False,\n",
       "       False, False, False, False, False, False,  True, False, False,\n",
       "       False, False,  True,  True,  True,  True, False, False,  True,\n",
       "       False,  True, False, False,  True, False, False,  True, False,\n",
       "        True, False,  True, False, False,  True,  True,  True, False,\n",
       "        True,  True, False,  True, False, False, False,  True,  True,\n",
       "       False, False,  True, False, False])"
      ]
     },
     "execution_count": 97,
     "metadata": {},
     "output_type": "execute_result"
    }
   ],
   "source": [
    "y_pred"
   ]
  },
  {
   "cell_type": "code",
   "execution_count": 98,
   "id": "1e4047e1-41da-4b87-a519-a9441c293a61",
   "metadata": {},
   "outputs": [
    {
     "data": {
      "text/plain": [
       "73"
      ]
     },
     "execution_count": 98,
     "metadata": {},
     "output_type": "execute_result"
    }
   ],
   "source": [
    "sum(y_pred)"
   ]
  },
  {
   "cell_type": "code",
   "execution_count": 99,
   "id": "26e99651-6234-4dec-838a-3fb15212f546",
   "metadata": {},
   "outputs": [
    {
     "data": {
      "text/plain": [
       "0.8356164383561644"
      ]
     },
     "execution_count": 99,
     "metadata": {},
     "output_type": "execute_result"
    }
   ],
   "source": [
    "precision_score(y_test, y_pred)"
   ]
  },
  {
   "cell_type": "code",
   "execution_count": 100,
   "id": "d4461420-7dde-407b-9378-b9aa5f43e47a",
   "metadata": {},
   "outputs": [
    {
     "data": {
      "text/plain": [
       "0.9384615384615385"
      ]
     },
     "execution_count": 100,
     "metadata": {},
     "output_type": "execute_result"
    }
   ],
   "source": [
    "recall_score(y_test, y_pred)"
   ]
  },
  {
   "cell_type": "code",
   "execution_count": 101,
   "id": "e3ac0253-290b-48f4-a3f6-2683e2c9b4b3",
   "metadata": {},
   "outputs": [
    {
     "data": {
      "text/plain": [
       "0.9276018099547512"
      ]
     },
     "execution_count": 101,
     "metadata": {},
     "output_type": "execute_result"
    }
   ],
   "source": [
    "accuracy_score(y_test, y_pred)"
   ]
  },
  {
   "cell_type": "code",
   "execution_count": 102,
   "id": "75442e7d-9d45-45b0-aaf1-db07ddd321cb",
   "metadata": {},
   "outputs": [
    {
     "data": {
      "text/plain": [
       "0.9307692307692309"
      ]
     },
     "execution_count": 102,
     "metadata": {},
     "output_type": "execute_result"
    }
   ],
   "source": [
    "roc_auc_score(y_test, y_pred)"
   ]
  },
  {
   "cell_type": "code",
   "execution_count": 103,
   "id": "4b5afe25-5bc3-47f5-b182-2f3648581987",
   "metadata": {},
   "outputs": [
    {
     "data": {
      "image/png": "[encoded data removed]",
      "text/plain": [
       "<Figure size 640x480 with 1 Axes>"
      ]
     },
     "metadata": {},
     "output_type": "display_data"
    }
   ],
   "source": [
    "from sklearn.metrics import PrecisionRecallDisplay\n",
    "\n",
    "display = PrecisionRecallDisplay.from_estimator(\n",
    "    clf, X_test, y_test, name=\"LinearSVC\", plot_chance_level=True\n",
    ")\n",
    "_ = display.ax_.set_title(\"2-class Precision-Recall curve\")"
   ]
  },
  {
   "cell_type": "code",
   "execution_count": 104,
   "id": "a5d65b7c-7aef-4883-a855-649c3fdb4093",
   "metadata": {},
   "outputs": [],
   "source": [
    "from sklearn import metrics\n",
    "\n",
    "fpr, tpr, thresholds = metrics.roc_curve(y_test, clf.predict_proba(X_test)[:, 1])"
   ]
  },
  {
   "cell_type": "code",
   "execution_count": 105,
   "id": "0e2bc6b9-67bd-4375-9c75-06c75328cd2f",
   "metadata": {},
   "outputs": [],
   "source": [
    "roc_auc = metrics.auc(fpr, tpr)"
   ]
  },
  {
   "cell_type": "code",
   "execution_count": 106,
   "id": "5c2a86bb-5f26-46c8-936a-1cdc06078259",
   "metadata": {},
   "outputs": [],
   "source": [
    "display = metrics.RocCurveDisplay(fpr=fpr, tpr=tpr, roc_auc=roc_auc,\n",
    "                                   estimator_name='example estimator')"
   ]
  },
  {
   "cell_type": "code",
   "execution_count": 107,
   "id": "63a95f05-985c-477a-bf66-a85a4a8956ce",
   "metadata": {},
   "outputs": [
    {
     "data": {
      "text/plain": [
       "<sklearn.metrics._plot.roc_curve.RocCurveDisplay at 0x7f82b1e13670>"
      ]
     },
     "execution_count": 107,
     "metadata": {},
     "output_type": "execute_result"
    },
    {
     "data": {
      "image/png": "[encoded data removed]",
      "text/plain": [
       "<Figure size 640x480 with 1 Axes>"
      ]
     },
     "metadata": {},
     "output_type": "display_data"
    }
   ],
   "source": [
    "display.plot()"
   ]
  },
  {
   "cell_type": "code",
   "execution_count": 108,
   "id": "0d26d206-e24b-4d62-84e3-9be09ce88a92",
   "metadata": {},
   "outputs": [
    {
     "name": "stdout",
     "output_type": "stream",
     "text": [
      "Area Under the ROC Curve for threshold 0.5: 0.9523668639053254\n",
      "Area Under the ROC Curve for threshold 0.08: 0.9294871794871795\n"
     ]
    },
    {
     "data": {
      "image/png": "[encoded data removed]",
      "text/plain": [
       "<Figure size 640x480 with 1 Axes>"
      ]
     },
     "metadata": {},
     "output_type": "display_data"
    }
   ],
   "source": [
    "from sklearn.metrics import roc_curve\n",
    "import matplotlib.pyplot as plt\n",
    "\n",
    "y_scores = clf.predict_proba(X_test)[:, 1] \n",
    "fpr, tpr, thresholds = metrics.roc_curve(y_test, y_scores) \n",
    "plt.plot(fpr, tpr,  label = 'Threshold = 0.5') \n",
    "print('Area Under the ROC Curve for threshold 0.5:', roc_auc_score(y_test, y_scores)) \n",
    "  \n",
    "# For Threshold 0.9 \n",
    "y_pred_new_threshold = clf.predict_proba(X_test)[:, 1] >= 0.15\n",
    "fpr_, tpr_, thresholds_ = metrics.roc_curve(y_test, y_pred_new_threshold) \n",
    "print('Area Under the ROC Curve for threshold 0.08:', roc_auc_score(y_test, y_pred_new_threshold)) \n",
    "plt.plot(fpr_, tpr_, label = 'Threshold = 0.08')\n",
    "\n",
    "plt.xlabel('False Positive Rate') \n",
    "plt.ylabel('True Positive Rate') \n",
    "plt.title('ROC Curve') \n",
    "plt.legend() \n",
    "plt.show()"
   ]
  },
  {
   "cell_type": "code",
   "execution_count": 109,
   "id": "ca62a3eb-94e6-4376-9f88-ad5341511495",
   "metadata": {},
   "outputs": [],
   "source": [
    "import argparse\n",
    "import dataclasses\n",
    "import os\n",
    "from subprocess import TimeoutExpired\n",
    "import random\n",
    "\n",
    "import compiler_gym\n",
    "import gym\n",
    "import numpy as np\n",
    "import pandas as pd\n",
    "import torch\n",
    "from compiler_gym import CompilerEnv\n",
    "from scipy import stats\n",
    "from tabulate import tabulate\n",
    "from tqdm import tqdm\n",
    "\n",
    "from config.config import TrainConfig\n",
    "from env.performance_optimization.llvm import compile_lm_safely\n",
    "from runtime_eval.hyperfine_utils import save_whisker_plot\n",
    "from runtime_eval.jotai.eval import measure_execution_mean_and_std\n",
    "from utils import (\n",
    "    get_agent,\n",
    "    get_model_path,\n",
    "    optimize_with_model,\n",
    "    get_observation_from_cg,\n",
    ")\n",
    "from observation.utils import ObservationModifier"
   ]
  },
  {
   "cell_type": "code",
   "execution_count": 110,
   "id": "86240405-6342-44e1-896e-87ba1c0034f2",
   "metadata": {},
   "outputs": [],
   "source": [
    "config = TrainConfig.load_config_from_path(f\"/home/flint/diplom/experiments/_models/trash2/{MODEL_NAME}_config.json\")\n",
    "env: CompilerEnv = gym.make(\"llvm-v0\")\n",
    "benchmarks = list(env.datasets[\"benchmark://cbench-v1\"].benchmarks())\n",
    "skipped_benchmarks = {\"bzip2\", \"adpcm\", \"ghostscript\", \"ispell\", \"lame\", \"rijndael\"}"
   ]
  },
  {
   "cell_type": "code",
   "execution_count": 111,
   "id": "eb7da1a1-b1c6-41b8-8f6c-16adb6d8532d",
   "metadata": {},
   "outputs": [],
   "source": [
    "good = {\n",
    "    \"bitcount\",\n",
    "    \"jpeg-c\",\n",
    "    \"patricia\",\n",
    "    \"stringsearch2\",\n",
    "    \"susan\",\n",
    "    \"tiff2rgba\",\n",
    "    \"tiffdither\",\n",
    "}\n",
    "good_probs = []\n",
    "bad_probs = []"
   ]
  },
  {
   "cell_type": "code",
   "execution_count": 112,
   "id": "3da93e79-01d7-41ac-b5ef-380c86e747a1",
   "metadata": {},
   "outputs": [
    {
     "name": "stderr",
     "output_type": "stream",
     "text": [
      "  9%|███▊                                        | 2/23 [00:00<00:09,  2.17it/s]"
     ]
    },
    {
     "name": "stdout",
     "output_type": "stream",
     "text": [
      "bitcount: [[9.99999965e-01 3.53403224e-08]] - [False]\n"
     ]
    },
    {
     "name": "stderr",
     "output_type": "stream",
     "text": [
      " 13%|█████▋                                      | 3/23 [00:02<00:21,  1.07s/it]"
     ]
    },
    {
     "name": "stdout",
     "output_type": "stream",
     "text": [
      "blowfish: [[1.00000000e+00 4.72423332e-28]] - [False]\n"
     ]
    },
    {
     "name": "stderr",
     "output_type": "stream",
     "text": [
      " 22%|█████████▌                                  | 5/23 [00:03<00:11,  1.52it/s]"
     ]
    },
    {
     "name": "stdout",
     "output_type": "stream",
     "text": [
      "crc32: [[1.00000000e+00 2.12106283e-12]] - [False]\n"
     ]
    },
    {
     "name": "stderr",
     "output_type": "stream",
     "text": [
      " 26%|███████████▍                                | 6/23 [00:04<00:11,  1.49it/s]"
     ]
    },
    {
     "name": "stdout",
     "output_type": "stream",
     "text": [
      "dijkstra: [[1.0000000e+00 1.4871864e-12]] - [False]\n"
     ]
    },
    {
     "name": "stderr",
     "output_type": "stream",
     "text": [
      " 35%|███████████████▎                            | 8/23 [00:10<00:27,  1.87s/it]"
     ]
    },
    {
     "name": "stdout",
     "output_type": "stream",
     "text": [
      "gsm: [[1.00000000e+00 5.68027376e-16]] - [False]\n"
     ]
    },
    {
     "name": "stderr",
     "output_type": "stream",
     "text": [
      " 43%|██████████████████▋                        | 10/23 [00:39<01:25,  6.61s/it]"
     ]
    },
    {
     "name": "stdout",
     "output_type": "stream",
     "text": [
      "jpeg-c: [[9.99839125e-01 1.60874584e-04]] - [False]\n"
     ]
    },
    {
     "name": "stderr",
     "output_type": "stream",
     "text": [
      " 48%|████████████████████▌                      | 11/23 [01:07<02:16, 11.35s/it]"
     ]
    },
    {
     "name": "stdout",
     "output_type": "stream",
     "text": [
      "jpeg-d: [[9.99813940e-01 1.86059701e-04]] - [False]\n"
     ]
    },
    {
     "name": "stderr",
     "output_type": "stream",
     "text": [
      " 57%|████████████████████████▎                  | 13/23 [01:08<01:11,  7.18s/it]"
     ]
    },
    {
     "name": "stdout",
     "output_type": "stream",
     "text": [
      "patricia: [[1.00000000e+00 4.03919285e-12]] - [False]\n"
     ]
    },
    {
     "name": "stderr",
     "output_type": "stream",
     "text": [
      " 61%|██████████████████████████▏                | 14/23 [01:09<00:52,  5.82s/it]"
     ]
    },
    {
     "name": "stdout",
     "output_type": "stream",
     "text": [
      "qsort: [[1.00000000e+00 6.15687201e-18]] - [False]\n"
     ]
    },
    {
     "name": "stderr",
     "output_type": "stream",
     "text": [
      " 70%|█████████████████████████████▉             | 16/23 [01:10<00:26,  3.79s/it]"
     ]
    },
    {
     "name": "stdout",
     "output_type": "stream",
     "text": [
      "sha: [[1.00000000e+00 3.27564596e-12]] - [False]\n"
     ]
    },
    {
     "name": "stderr",
     "output_type": "stream",
     "text": [
      " 74%|███████████████████████████████▊           | 17/23 [01:11<00:19,  3.22s/it]"
     ]
    },
    {
     "name": "stdout",
     "output_type": "stream",
     "text": [
      "stringsearch: [[1.00000000e+00 4.55789914e-18]] - [False]\n"
     ]
    },
    {
     "name": "stderr",
     "output_type": "stream",
     "text": [
      " 78%|█████████████████████████████████▋         | 18/23 [01:12<00:13,  2.63s/it]"
     ]
    },
    {
     "name": "stdout",
     "output_type": "stream",
     "text": [
      "stringsearch2: [[1.00000000e+00 2.39568868e-21]] - [False]\n"
     ]
    },
    {
     "name": "stderr",
     "output_type": "stream",
     "text": [
      " 83%|███████████████████████████████████▌       | 19/23 [01:19<00:15,  3.78s/it]"
     ]
    },
    {
     "name": "stdout",
     "output_type": "stream",
     "text": [
      "susan: [[9.99999974e-01 2.64443408e-08]] - [False]\n"
     ]
    },
    {
     "name": "stderr",
     "output_type": "stream",
     "text": [
      " 87%|█████████████████████████████████████▍     | 20/23 [01:46<00:30, 10.02s/it]"
     ]
    },
    {
     "name": "stdout",
     "output_type": "stream",
     "text": [
      "tiff2bw: [[9.99999960e-01 3.99915327e-08]] - [False]\n"
     ]
    },
    {
     "name": "stderr",
     "output_type": "stream",
     "text": [
      " 91%|███████████████████████████████████████▎   | 21/23 [02:16<00:30, 15.43s/it]"
     ]
    },
    {
     "name": "stdout",
     "output_type": "stream",
     "text": [
      "tiff2rgba: [[9.99999971e-01 2.87865489e-08]] - [False]\n"
     ]
    },
    {
     "name": "stderr",
     "output_type": "stream",
     "text": [
      " 96%|█████████████████████████████████████████▏ | 22/23 [02:48<00:20, 20.07s/it]"
     ]
    },
    {
     "name": "stdout",
     "output_type": "stream",
     "text": [
      "tiffdither: [[9.99999974e-01 2.62429927e-08]] - [False]\n"
     ]
    },
    {
     "name": "stderr",
     "output_type": "stream",
     "text": [
      "100%|███████████████████████████████████████████| 23/23 [03:33<00:00,  9.28s/it]"
     ]
    },
    {
     "name": "stdout",
     "output_type": "stream",
     "text": [
      "tiffmedian: [[9.99999942e-01 5.78868870e-08]] - [False]\n"
     ]
    },
    {
     "name": "stderr",
     "output_type": "stream",
     "text": [
      "\n"
     ]
    }
   ],
   "source": [
    "for benchmark in tqdm(benchmarks):\n",
    "    benchmark_name = str(benchmark).rsplit(\"/\", maxsplit=1)[-1]\n",
    "    observation_modifier = ObservationModifier(None, config.observation_modifiers, config.episode_length)\n",
    "    if benchmark_name in skipped_benchmarks:\n",
    "        continue\n",
    "    with compiler_gym.make(\"llvm-v0\", benchmark=benchmark) as new_env:\n",
    "        new_env.reset()\n",
    "        # if not new_env.observation[\"IsRunnable\"]:\n",
    "        #     print(f\"Benchmark {benchmark} not runnable, skip it\")\n",
    "        #     continue\n",
    "        base_observation = get_observation_from_cg(new_env, config.observation_space)\n",
    "        obs = observation_modifier.modify(\n",
    "            base_observation, config.episode_length, ir=new_env.observation[\"Ir\"]\n",
    "        )\n",
    "        # obs = scaler.transform([obs[3:-1]])[0]\n",
    "        obs = scaler.transform([obs[303:-1]])[0]\n",
    "        proba = clf.predict_proba([obs])\n",
    "        if benchmark_name in good:\n",
    "            good_probs.append(proba[0])\n",
    "        else:\n",
    "            bad_probs.append(proba[0])\n",
    "        pred = clf.predict([obs])\n",
    "        print(f\"{benchmark_name}: {proba} - {pred}\")"
   ]
  },
  {
   "cell_type": "code",
   "execution_count": 113,
   "id": "a7163e35-1cf2-451f-aa8b-411185fe27ac",
   "metadata": {},
   "outputs": [
    {
     "data": {
      "text/plain": [
       "[array([9.99999965e-01, 3.53403224e-08]),\n",
       " array([9.99839125e-01, 1.60874584e-04]),\n",
       " array([1.00000000e+00, 4.03919285e-12]),\n",
       " array([1.00000000e+00, 2.39568868e-21]),\n",
       " array([9.99999974e-01, 2.64443408e-08]),\n",
       " array([9.99999971e-01, 2.87865489e-08]),\n",
       " array([9.99999974e-01, 2.62429927e-08])]"
      ]
     },
     "execution_count": 113,
     "metadata": {},
     "output_type": "execute_result"
    }
   ],
   "source": [
    "good_probs"
   ]
  },
  {
   "cell_type": "code",
   "execution_count": 114,
   "id": "313e08d6-79ad-48f8-9567-0b519509c50b",
   "metadata": {},
   "outputs": [
    {
     "data": {
      "text/plain": [
       "[array([1.00000000e+00, 4.72423332e-28]),\n",
       " array([1.00000000e+00, 2.12106283e-12]),\n",
       " array([1.0000000e+00, 1.4871864e-12]),\n",
       " array([1.00000000e+00, 5.68027376e-16]),\n",
       " array([9.99813940e-01, 1.86059701e-04]),\n",
       " array([1.00000000e+00, 6.15687201e-18]),\n",
       " array([1.00000000e+00, 3.27564596e-12]),\n",
       " array([1.00000000e+00, 4.55789914e-18]),\n",
       " array([9.99999960e-01, 3.99915327e-08]),\n",
       " array([9.99999942e-01, 5.78868870e-08])]"
      ]
     },
     "execution_count": 114,
     "metadata": {},
     "output_type": "execute_result"
    }
   ],
   "source": [
    "bad_probs"
   ]
  },
  {
   "cell_type": "code",
   "execution_count": null,
   "id": "de4e1d7e-d57e-4728-a2c7-e258e3335177",
   "metadata": {},
   "outputs": [],
   "source": []
  }
 ],
 "metadata": {
  "kernelspec": {
   "display_name": "Python 3 (ipykernel)",
   "language": "python",
   "name": "python3"
  },
  "language_info": {
   "codemirror_mode": {
    "name": "ipython",
    "version": 3
   },
   "file_extension": ".py",
   "mimetype": "text/x-python",
   "name": "python",
   "nbconvert_exporter": "python",
   "pygments_lexer": "ipython3",
   "version": "3.9.2"
  }
 },
 "nbformat": 4,
 "nbformat_minor": 5
}
