{
 "cells": [
  {
   "cell_type": "code",
   "execution_count": 1,
   "id": "0c8e40c7-be2d-4e72-9164-5a48d71bc792",
   "metadata": {},
   "outputs": [],
   "source": [
    "from itertools import islice\n",
    "\n",
    "import compiler_gym\n",
    "import ray\n",
    "from compiler_gym.wrappers import (\n",
    "    ConstrainedCommandline,\n",
    "    TimeLimit,\n",
    "    CycleOverBenchmarks,\n",
    ")\n",
    "from matplotlib import pyplot as plt\n",
    "from ray import tune\n",
    "from ray.rllib.algorithms.ppo import PPO\n",
    "from sklearn.model_selection import train_test_split\n",
    "\n",
    "# import wandb\n",
    "from train import config\n",
    "# from ray.rllib.env.wrappers.multi_agent_env_compatibility import MultiAgentEnvCompatibility"
   ]
  },
  {
   "cell_type": "code",
   "execution_count": 2,
   "id": "1ef1a2f5-b834-4d7b-8ccd-183f65f048b9",
   "metadata": {},
   "outputs": [],
   "source": [
    "def make_env() -> compiler_gym.envs.CompilerEnv:\n",
    "    env = compiler_gym.make(\n",
    "        config[\"compiler_gym_env\"],\n",
    "        observation_space=config[\"observation_space\"],\n",
    "        reward_space=config[\"reward_space\"],\n",
    "    )\n",
    "    env = ConstrainedCommandline(\n",
    "        env,\n",
    "        flags=config[\"actions\"],\n",
    "    )\n",
    "    env = TimeLimit(env, max_episode_steps=config[\"episode_length\"])\n",
    "    return env"
   ]
  },
  {
   "cell_type": "code",
   "execution_count": 3,
   "id": "8b3ccccb-b7b0-4385-ad6b-8c3f55e79727",
   "metadata": {},
   "outputs": [],
   "source": [
    "def prepare_datasets(env: compiler_gym.envs.CompilerEnv) -> tuple:\n",
    "    train_benchmarks = list(\n",
    "        islice(env.datasets[config[\"train_benchmarks\"]].benchmarks(), 10000)\n",
    "    )\n",
    "    train_benchmarks, val_benchmarks = train_test_split(\n",
    "        train_benchmarks, test_size=0.15, random_state=config[\"random_state\"]\n",
    "    )\n",
    "    test_benchmarks = list(env.datasets[config[\"test_benchmarks\"]].benchmarks())\n",
    "    return train_benchmarks, val_benchmarks, test_benchmarks"
   ]
  },
  {
   "cell_type": "code",
   "execution_count": 4,
   "id": "7e3bdd48-4744-4608-b4a1-47d2b0167843",
   "metadata": {},
   "outputs": [],
   "source": [
    "def make_training_env(*args) -> compiler_gym.envs.CompilerEnv:\n",
    "    del args\n",
    "    return CycleOverBenchmarks(make_env(), train_benchmarks)"
   ]
  },
  {
   "cell_type": "code",
   "execution_count": 5,
   "id": "293af428-f81f-451c-8f9b-90ea6983a334",
   "metadata": {},
   "outputs": [],
   "source": [
    "def run_agent_on_benchmarks(benchmarks):\n",
    "    with make_env() as env:\n",
    "        rewards = []\n",
    "        for i, benchmark in enumerate(benchmarks, start=1):\n",
    "            observation, done = env.reset(benchmark=benchmark), False\n",
    "            while not done:\n",
    "                action = agent.compute_single_action(observation)\n",
    "                observation, _, done, _ = env.step(action)\n",
    "            rewards.append(env.episode_reward)\n",
    "            print(f\"[{i}/{len(benchmarks)}] {env.state}\")\n",
    "\n",
    "    return rewards"
   ]
  },
  {
   "cell_type": "code",
   "execution_count": 6,
   "id": "ff97d734-69d1-43a1-8d0a-c147a0eac029",
   "metadata": {},
   "outputs": [],
   "source": [
    "def plot_results(x, y, name, ax):\n",
    "    plt.sca(ax)\n",
    "    plt.bar(range(len(y)), y)\n",
    "    plt.ylabel(\"Reward (higher is better)\")\n",
    "    plt.xticks(range(len(x)), x, rotation=90)\n",
    "    plt.title(f\"Performance on {name} set\")"
   ]
  },
  {
   "cell_type": "code",
   "execution_count": 7,
   "id": "9b86bf74-c86d-4cb8-922a-1c08fef52b63",
   "metadata": {},
   "outputs": [],
   "source": [
    "with make_env() as env:\n",
    "    train_benchmarks, val_benchmarks, test_benchmarks = prepare_datasets(env)"
   ]
  },
  {
   "cell_type": "code",
   "execution_count": 8,
   "id": "e2a4c452-4522-4173-acc9-f01cda8c5b61",
   "metadata": {},
   "outputs": [
    {
     "name": "stderr",
     "output_type": "stream",
     "text": [
      "2024-01-28 11:43:48,886\tINFO worker.py:1529 -- Started a local Ray instance. View the dashboard at \u001b[1m\u001b[32m127.0.0.1:8265 \u001b[39m\u001b[22m\n",
      "\u001b[2m\u001b[36m(PPO pid=5115)\u001b[0m 2024-01-28 11:43:56,326\tWARNING algorithm_config.py:488 -- Cannot create PPOConfig from given `config_dict`! Property __stdout_file__ not supported.\n",
      "\u001b[2m\u001b[36m(PPO pid=5115)\u001b[0m 2024-01-28 11:43:57,566\tINFO algorithm.py:501 -- Current log_level is WARN. For more information, set 'log_level': 'INFO' / 'DEBUG' or use the -v and -vv flags.\n",
      "\u001b[2m\u001b[36m(PPO pid=5115)\u001b[0m 2024-01-28 11:44:03,389\tWARNING util.py:66 -- Install gputil for GPU system monitoring.\n",
      "\u001b[2m\u001b[36m(PPO pid=5115)\u001b[0m 2024-01-28 11:52:12,942\tERROR actor_manager.py:486 -- Ray error, taking actor 1 out of service. \u001b[36mray::RolloutWorker.apply()\u001b[39m (pid=5171, ip=192.168.0.12, repr=<ray.rllib.evaluation.rollout_worker.RolloutWorker object at 0x7f5dc9b3b790>)\n",
      "\u001b[2m\u001b[36m(PPO pid=5115)\u001b[0m   File \"/home/flint/diplom/experiments/venv/lib/python3.9/site-packages/ray/rllib/utils/actor_manager.py\", line 183, in apply\n",
      "\u001b[2m\u001b[36m(PPO pid=5115)\u001b[0m     raise e\n",
      "\u001b[2m\u001b[36m(PPO pid=5115)\u001b[0m   File \"/home/flint/diplom/experiments/venv/lib/python3.9/site-packages/ray/rllib/utils/actor_manager.py\", line 174, in apply\n",
      "\u001b[2m\u001b[36m(PPO pid=5115)\u001b[0m     return func(self, *args, **kwargs)\n",
      "\u001b[2m\u001b[36m(PPO pid=5115)\u001b[0m   File \"/home/flint/diplom/experiments/venv/lib/python3.9/site-packages/ray/rllib/execution/rollout_ops.py\", line 86, in <lambda>\n",
      "\u001b[2m\u001b[36m(PPO pid=5115)\u001b[0m     lambda w: w.sample(), local_worker=False, healthy_only=True\n",
      "\u001b[2m\u001b[36m(PPO pid=5115)\u001b[0m   File \"/home/flint/diplom/experiments/venv/lib/python3.9/site-packages/ray/rllib/evaluation/rollout_worker.py\", line 900, in sample\n",
      "\u001b[2m\u001b[36m(PPO pid=5115)\u001b[0m     batches = [self.input_reader.next()]\n",
      "\u001b[2m\u001b[36m(PPO pid=5115)\u001b[0m   File \"/home/flint/diplom/experiments/venv/lib/python3.9/site-packages/ray/rllib/evaluation/sampler.py\", line 92, in next\n",
      "\u001b[2m\u001b[36m(PPO pid=5115)\u001b[0m     batches = [self.get_data()]\n",
      "\u001b[2m\u001b[36m(PPO pid=5115)\u001b[0m   File \"/home/flint/diplom/experiments/venv/lib/python3.9/site-packages/ray/rllib/evaluation/sampler.py\", line 285, in get_data\n",
      "\u001b[2m\u001b[36m(PPO pid=5115)\u001b[0m     item = next(self._env_runner)\n",
      "\u001b[2m\u001b[36m(PPO pid=5115)\u001b[0m   File \"/home/flint/diplom/experiments/venv/lib/python3.9/site-packages/ray/rllib/evaluation/sampler.py\", line 671, in _env_runner\n",
      "\u001b[2m\u001b[36m(PPO pid=5115)\u001b[0m     active_envs, to_eval, outputs = _process_observations(\n",
      "\u001b[2m\u001b[36m(PPO pid=5115)\u001b[0m   File \"/home/flint/diplom/experiments/venv/lib/python3.9/site-packages/ray/rllib/evaluation/sampler.py\", line 922, in _process_observations\n",
      "\u001b[2m\u001b[36m(PPO pid=5115)\u001b[0m     prep_obs = preprocessor.transform(raw_obs)\n",
      "\u001b[2m\u001b[36m(PPO pid=5115)\u001b[0m   File \"/home/flint/diplom/experiments/venv/lib/python3.9/site-packages/ray/rllib/models/preprocessors.py\", line 206, in transform\n",
      "\u001b[2m\u001b[36m(PPO pid=5115)\u001b[0m     self.check_shape(observation)\n",
      "\u001b[2m\u001b[36m(PPO pid=5115)\u001b[0m   File \"/home/flint/diplom/experiments/venv/lib/python3.9/site-packages/ray/rllib/models/preprocessors.py\", line 74, in check_shape\n",
      "\u001b[2m\u001b[36m(PPO pid=5115)\u001b[0m     raise ValueError(\n",
      "\u001b[2m\u001b[36m(PPO pid=5115)\u001b[0m ValueError: Observation ([0.33333334 1.3333334  0.33333334 0.         0.         0.\n",
      "\u001b[2m\u001b[36m(PPO pid=5115)\u001b[0m  0.         0.         0.         0.         0.         0.\n",
      "\u001b[2m\u001b[36m(PPO pid=5115)\u001b[0m  0.         0.         0.         0.         0.         0.\n",
      "\u001b[2m\u001b[36m(PPO pid=5115)\u001b[0m  0.         0.         0.         0.         0.         0.\n",
      "\u001b[2m\u001b[36m(PPO pid=5115)\u001b[0m  0.         0.         0.         0.         0.         0.\n",
      "\u001b[2m\u001b[36m(PPO pid=5115)\u001b[0m  0.         0.         0.         0.         0.         0.\n",
      "\u001b[2m\u001b[36m(PPO pid=5115)\u001b[0m  0.         0.         0.         0.         0.         0.\n",
      "\u001b[2m\u001b[36m(PPO pid=5115)\u001b[0m  0.         0.         0.         0.         0.         0.\n",
      "\u001b[2m\u001b[36m(PPO pid=5115)\u001b[0m  0.         0.         0.33333334 0.         0.         0.\n",
      "\u001b[2m\u001b[36m(PPO pid=5115)\u001b[0m  0.         0.         0.         0.33333334 0.         0.\n",
      "\u001b[2m\u001b[36m(PPO pid=5115)\u001b[0m  0.         0.         0.         0.         0.         0.\n",
      "\u001b[2m\u001b[36m(PPO pid=5115)\u001b[0m  0.         0.         0.        ] dtype=float32) outside given space (Box([0. 0. 0. 0. 0. 0. 0. 0. 0. 0. 0. 0. 0. 0. 0. 0. 0. 0. 0. 0. 0. 0. 0. 0.\n",
      "\u001b[2m\u001b[36m(PPO pid=5115)\u001b[0m  0. 0. 0. 0. 0. 0. 0. 0. 0. 0. 0. 0. 0. 0. 0. 0. 0. 0. 0. 0. 0. 0. 0. 0.\n",
      "\u001b[2m\u001b[36m(PPO pid=5115)\u001b[0m  0. 0. 0. 0. 0. 0. 0. 0. 0. 0. 0. 0. 0. 0. 0. 0. 0. 0. 0. 0. 0.], [1. 1. 1. 1. 1. 1. 1. 1. 1. 1. 1. 1. 1. 1. 1. 1. 1. 1. 1. 1. 1. 1. 1. 1.\n",
      "\u001b[2m\u001b[36m(PPO pid=5115)\u001b[0m  1. 1. 1. 1. 1. 1. 1. 1. 1. 1. 1. 1. 1. 1. 1. 1. 1. 1. 1. 1. 1. 1. 1. 1.\n",
      "\u001b[2m\u001b[36m(PPO pid=5115)\u001b[0m  1. 1. 1. 1. 1. 1. 1. 1. 1. 1. 1. 1. 1. 1. 1. 1. 1. 1. 1. 1. 1.], (69,), float32))!\n",
      "\u001b[2m\u001b[36m(PPO pid=8224)\u001b[0m 2024-01-28 12:03:23,067\tWARNING algorithm_config.py:488 -- Cannot create PPOConfig from given `config_dict`! Property __stdout_file__ not supported.\n",
      "\u001b[2m\u001b[36m(PPO pid=8224)\u001b[0m 2024-01-28 12:03:25,049\tINFO algorithm.py:501 -- Current log_level is WARN. For more information, set 'log_level': 'INFO' / 'DEBUG' or use the -v and -vv flags.\n",
      "\u001b[2m\u001b[36m(PPO pid=8224)\u001b[0m 2024-01-28 12:03:35,563\tINFO trainable.py:172 -- Trainable.setup took 10.520 seconds. If your trainable is slow to initialize, consider setting reuse_actors=True to reduce actor creation overheads.\n",
      "\u001b[2m\u001b[36m(PPO pid=8224)\u001b[0m 2024-01-28 12:03:35,565\tWARNING util.py:66 -- Install gputil for GPU system monitoring.\n",
      "\u001b[2m\u001b[36m(PPO pid=8224)\u001b[0m 2024-01-28 12:23:10,828\tERROR actor_manager.py:486 -- Ray error, taking actor 1 out of service. \u001b[36mray::RolloutWorker.apply()\u001b[39m (pid=8272, ip=192.168.0.12, repr=<ray.rllib.evaluation.rollout_worker.RolloutWorker object at 0x7fc0191653a0>)\n",
      "\u001b[2m\u001b[36m(PPO pid=8224)\u001b[0m   File \"/home/flint/diplom/experiments/venv/lib/python3.9/site-packages/ray/rllib/utils/actor_manager.py\", line 183, in apply\n",
      "\u001b[2m\u001b[36m(PPO pid=8224)\u001b[0m     raise e\n",
      "\u001b[2m\u001b[36m(PPO pid=8224)\u001b[0m   File \"/home/flint/diplom/experiments/venv/lib/python3.9/site-packages/ray/rllib/utils/actor_manager.py\", line 174, in apply\n",
      "\u001b[2m\u001b[36m(PPO pid=8224)\u001b[0m     return func(self, *args, **kwargs)\n",
      "\u001b[2m\u001b[36m(PPO pid=8224)\u001b[0m   File \"/home/flint/diplom/experiments/venv/lib/python3.9/site-packages/ray/rllib/execution/rollout_ops.py\", line 86, in <lambda>\n",
      "\u001b[2m\u001b[36m(PPO pid=8224)\u001b[0m     lambda w: w.sample(), local_worker=False, healthy_only=True\n",
      "\u001b[2m\u001b[36m(PPO pid=8224)\u001b[0m   File \"/home/flint/diplom/experiments/venv/lib/python3.9/site-packages/ray/rllib/evaluation/rollout_worker.py\", line 900, in sample\n",
      "\u001b[2m\u001b[36m(PPO pid=8224)\u001b[0m     batches = [self.input_reader.next()]\n",
      "\u001b[2m\u001b[36m(PPO pid=8224)\u001b[0m   File \"/home/flint/diplom/experiments/venv/lib/python3.9/site-packages/ray/rllib/evaluation/sampler.py\", line 92, in next\n",
      "\u001b[2m\u001b[36m(PPO pid=8224)\u001b[0m     batches = [self.get_data()]\n",
      "\u001b[2m\u001b[36m(PPO pid=8224)\u001b[0m   File \"/home/flint/diplom/experiments/venv/lib/python3.9/site-packages/ray/rllib/evaluation/sampler.py\", line 285, in get_data\n",
      "\u001b[2m\u001b[36m(PPO pid=8224)\u001b[0m     item = next(self._env_runner)\n",
      "\u001b[2m\u001b[36m(PPO pid=8224)\u001b[0m   File \"/home/flint/diplom/experiments/venv/lib/python3.9/site-packages/ray/rllib/evaluation/sampler.py\", line 671, in _env_runner\n",
      "\u001b[2m\u001b[36m(PPO pid=8224)\u001b[0m     active_envs, to_eval, outputs = _process_observations(\n",
      "\u001b[2m\u001b[36m(PPO pid=8224)\u001b[0m   File \"/home/flint/diplom/experiments/venv/lib/python3.9/site-packages/ray/rllib/evaluation/sampler.py\", line 922, in _process_observations\n",
      "\u001b[2m\u001b[36m(PPO pid=8224)\u001b[0m     prep_obs = preprocessor.transform(raw_obs)\n",
      "\u001b[2m\u001b[36m(PPO pid=8224)\u001b[0m   File \"/home/flint/diplom/experiments/venv/lib/python3.9/site-packages/ray/rllib/models/preprocessors.py\", line 206, in transform\n",
      "\u001b[2m\u001b[36m(PPO pid=8224)\u001b[0m     self.check_shape(observation)\n",
      "\u001b[2m\u001b[36m(PPO pid=8224)\u001b[0m   File \"/home/flint/diplom/experiments/venv/lib/python3.9/site-packages/ray/rllib/models/preprocessors.py\", line 74, in check_shape\n",
      "\u001b[2m\u001b[36m(PPO pid=8224)\u001b[0m     raise ValueError(\n",
      "\u001b[2m\u001b[36m(PPO pid=8224)\u001b[0m ValueError: Observation ([0.33333334 1.3333334  0.33333334 0.         0.         0.\n",
      "\u001b[2m\u001b[36m(PPO pid=8224)\u001b[0m  0.         0.         0.         0.         0.         0.\n",
      "\u001b[2m\u001b[36m(PPO pid=8224)\u001b[0m  0.         0.         0.         0.         0.         0.\n",
      "\u001b[2m\u001b[36m(PPO pid=8224)\u001b[0m  0.         0.         0.         0.         0.         0.\n",
      "\u001b[2m\u001b[36m(PPO pid=8224)\u001b[0m  0.         0.         0.         0.         0.         0.\n",
      "\u001b[2m\u001b[36m(PPO pid=8224)\u001b[0m  0.         0.         0.         0.         0.         0.\n",
      "\u001b[2m\u001b[36m(PPO pid=8224)\u001b[0m  0.         0.         0.         0.         0.         0.\n",
      "\u001b[2m\u001b[36m(PPO pid=8224)\u001b[0m  0.         0.         0.         0.         0.         0.\n",
      "\u001b[2m\u001b[36m(PPO pid=8224)\u001b[0m  0.         0.         0.33333334 0.         0.         0.\n",
      "\u001b[2m\u001b[36m(PPO pid=8224)\u001b[0m  0.         0.         0.         0.33333334 0.         0.\n",
      "\u001b[2m\u001b[36m(PPO pid=8224)\u001b[0m  0.         0.         0.         0.         0.         0.\n",
      "\u001b[2m\u001b[36m(PPO pid=8224)\u001b[0m  0.         0.         0.        ] dtype=float32) outside given space (Box([0. 0. 0. 0. 0. 0. 0. 0. 0. 0. 0. 0. 0. 0. 0. 0. 0. 0. 0. 0. 0. 0. 0. 0.\n",
      "\u001b[2m\u001b[36m(PPO pid=8224)\u001b[0m  0. 0. 0. 0. 0. 0. 0. 0. 0. 0. 0. 0. 0. 0. 0. 0. 0. 0. 0. 0. 0. 0. 0. 0.\n",
      "\u001b[2m\u001b[36m(PPO pid=8224)\u001b[0m  0. 0. 0. 0. 0. 0. 0. 0. 0. 0. 0. 0. 0. 0. 0. 0. 0. 0. 0. 0. 0.], [1. 1. 1. 1. 1. 1. 1. 1. 1. 1. 1. 1. 1. 1. 1. 1. 1. 1. 1. 1. 1. 1. 1. 1.\n",
      "\u001b[2m\u001b[36m(PPO pid=8224)\u001b[0m  1. 1. 1. 1. 1. 1. 1. 1. 1. 1. 1. 1. 1. 1. 1. 1. 1. 1. 1. 1. 1. 1. 1. 1.\n",
      "\u001b[2m\u001b[36m(PPO pid=8224)\u001b[0m  1. 1. 1. 1. 1. 1. 1. 1. 1. 1. 1. 1. 1. 1. 1. 1. 1. 1. 1. 1. 1.], (69,), float32))!\n",
      "\u001b[2m\u001b[33m(raylet)\u001b[0m [2024-01-28 15:51:49,529 E 4893 4893] (raylet) node_manager.cc:3097: 2 Workers (tasks / actors) killed due to memory pressure (OOM), 0 Workers crashed due to other reasons at node (ID: dfbb3d67f46ee4aaa75b1e3a34bbef93ad9def9ca4af01cc9a256836, IP: 192.168.0.12) over the last time period. To see more information about the Workers killed on this node, use `ray logs raylet.out -ip 192.168.0.12`\n",
      "\u001b[2m\u001b[33m(raylet)\u001b[0m \n",
      "\u001b[2m\u001b[33m(raylet)\u001b[0m Refer to the documentation on how to address the out of memory issue: https://docs.ray.io/en/latest/ray-core/scheduling/ray-oom-prevention.html. Consider provisioning more memory on this node or reducing task parallelism by requesting more CPUs per task. To adjust the kill threshold, set the environment variable `RAY_memory_usage_threshold` when starting Ray. To disable worker killing, set the environment variable `RAY_memory_monitor_refresh_ms` to zero.\n"
     ]
    }
   ],
   "source": [
    "if ray.is_initialized():\n",
    "    ray.shutdown()\n",
    "ray.init(\n",
    "    include_dashboard=True,\n",
    "    ignore_reinit_error=True,\n",
    "    num_gpus=1,\n",
    ")\n",
    "tune.register_env(\"compiler_gym\", make_training_env)"
   ]
  },
  {
   "cell_type": "code",
   "execution_count": null,
   "id": "668cb29b-bbce-417c-91e4-c6f218f61d83",
   "metadata": {},
   "outputs": [
    {
     "data": {
      "text/html": [
       "<div class=\"tuneStatus\">\n",
       "  <div style=\"display: flex;flex-direction: row\">\n",
       "    <div style=\"display: flex;flex-direction: column;\">\n",
       "      <h3>Tune Status</h3>\n",
       "      <table>\n",
       "<tbody>\n",
       "<tr><td>Current time:</td><td>2024-01-28 12:23:10</td></tr>\n",
       "<tr><td>Running for: </td><td>00:19:54.24        </td></tr>\n",
       "<tr><td>Memory:      </td><td>5.0/7.7 GiB        </td></tr>\n",
       "</tbody>\n",
       "</table>\n",
       "    </div>\n",
       "    <div class=\"vDivider\"></div>\n",
       "    <div class=\"systemInfo\">\n",
       "      <h3>System Info</h3>\n",
       "      Using FIFO scheduling algorithm.<br>Resources requested: 0/4 CPUs, 0/1 GPUs, 0.0/2.66 GiB heap, 0.0/1.33 GiB objects (0.0/1.0 accelerator_type:G)\n",
       "    </div>\n",
       "    <div class=\"vDivider\"></div>\n",
       "<div class=\"messages\">\n",
       "  <h3>Messages</h3>\n",
       "  \n",
       "  \n",
       "  Number of errored trials: 1<br><table>\n",
       "<thead>\n",
       "<tr><th>Trial name                  </th><th style=\"text-align: right;\">  # failures</th><th>error file                                                                              </th></tr>\n",
       "</thead>\n",
       "<tbody>\n",
       "<tr><td>PPO_compiler_gym_131a8_00000</td><td style=\"text-align: right;\">           1</td><td>/home/flint/ray_results/PPO/PPO_compiler_gym_131a8_00000_0_2024-01-28_12-03-16/error.txt</td></tr>\n",
       "</tbody>\n",
       "</table>\n",
       "</div>\n",
       "<style>\n",
       ".messages {\n",
       "  color: var(--jp-ui-font-color1);\n",
       "  display: flex;\n",
       "  flex-direction: column;\n",
       "  padding-left: 1em;\n",
       "  overflow-y: auto;\n",
       "}\n",
       ".messages h3 {\n",
       "  font-weight: bold;\n",
       "}\n",
       ".vDivider {\n",
       "  border-left-width: var(--jp-border-width);\n",
       "  border-left-color: var(--jp-border-color0);\n",
       "  border-left-style: solid;\n",
       "  margin: 0.5em 1em 0.5em 1em;\n",
       "}\n",
       "</style>\n",
       "\n",
       "  </div>\n",
       "  <div class=\"hDivider\"></div>\n",
       "  <div class=\"trialStatus\">\n",
       "    <h3>Trial Status</h3>\n",
       "    <table>\n",
       "<thead>\n",
       "<tr><th>Trial name                  </th><th>status  </th><th>loc              </th><th style=\"text-align: right;\">  iter</th><th style=\"text-align: right;\">  total time (s)</th><th style=\"text-align: right;\">  ts</th><th style=\"text-align: right;\">  reward</th><th style=\"text-align: right;\">  episode_reward_max</th><th style=\"text-align: right;\">  episode_reward_min</th><th style=\"text-align: right;\">  episode_len_mean</th></tr>\n",
       "</thead>\n",
       "<tbody>\n",
       "<tr><td>PPO_compiler_gym_131a8_00000</td><td>ERROR   </td><td>192.168.0.12:8224</td><td style=\"text-align: right;\">  1900</td><td style=\"text-align: right;\">          1067.7</td><td style=\"text-align: right;\">9500</td><td style=\"text-align: right;\">0.835251</td><td style=\"text-align: right;\">             1.08969</td><td style=\"text-align: right;\">                   0</td><td style=\"text-align: right;\">               100</td></tr>\n",
       "</tbody>\n",
       "</table>\n",
       "  </div>\n",
       "</div>\n",
       "<style>\n",
       ".tuneStatus {\n",
       "  color: var(--jp-ui-font-color1);\n",
       "}\n",
       ".tuneStatus .systemInfo {\n",
       "  display: flex;\n",
       "  flex-direction: column;\n",
       "}\n",
       ".tuneStatus td {\n",
       "  white-space: nowrap;\n",
       "}\n",
       ".tuneStatus .trialStatus {\n",
       "  display: flex;\n",
       "  flex-direction: column;\n",
       "}\n",
       ".tuneStatus h3 {\n",
       "  font-weight: bold;\n",
       "}\n",
       ".tuneStatus .hDivider {\n",
       "  border-bottom-width: var(--jp-border-width);\n",
       "  border-bottom-color: var(--jp-border-color0);\n",
       "  border-bottom-style: solid;\n",
       "}\n",
       ".tuneStatus .vDivider {\n",
       "  border-left-width: var(--jp-border-width);\n",
       "  border-left-color: var(--jp-border-color0);\n",
       "  border-left-style: solid;\n",
       "  margin: 0.5em 1em 0.5em 1em;\n",
       "}\n",
       "</style>\n"
      ],
      "text/plain": [
       "<IPython.core.display.HTML object>"
      ]
     },
     "metadata": {},
     "output_type": "display_data"
    },
    {
     "data": {
      "text/html": [
       "<div class=\"trialProgress\">\n",
       "  <h3>Trial Progress</h3>\n",
       "  <table>\n",
       "<thead>\n",
       "<tr><th>Trial name                  </th><th style=\"text-align: right;\">  agent_timesteps_total</th><th>counters                                                                                                                        </th><th>custom_metrics  </th><th>date               </th><th>done  </th><th style=\"text-align: right;\">  episode_len_mean</th><th>episode_media  </th><th style=\"text-align: right;\">  episode_reward_max</th><th style=\"text-align: right;\">  episode_reward_mean</th><th style=\"text-align: right;\">  episode_reward_min</th><th style=\"text-align: right;\">  episodes_this_iter</th><th style=\"text-align: right;\">  episodes_total</th><th>experiment_id                   </th><th style=\"text-align: right;\">  experiment_tag</th><th>hostname  </th><th>info                                                                                                                                                                                                                                                                                                                                                                                                                                                                                                                                                                                                                                                                          </th><th style=\"text-align: right;\">  iterations_since_restore</th><th>node_ip     </th><th style=\"text-align: right;\">  num_agent_steps_sampled</th><th style=\"text-align: right;\">  num_agent_steps_trained</th><th style=\"text-align: right;\">  num_env_steps_sampled</th><th style=\"text-align: right;\">  num_env_steps_sampled_this_iter</th><th style=\"text-align: right;\">  num_env_steps_trained</th><th style=\"text-align: right;\">  num_env_steps_trained_this_iter</th><th style=\"text-align: right;\">  num_faulty_episodes</th><th style=\"text-align: right;\">  num_healthy_workers</th><th style=\"text-align: right;\">  num_in_flight_async_reqs</th><th style=\"text-align: right;\">  num_remote_worker_restarts</th><th style=\"text-align: right;\">  num_steps_trained_this_iter</th><th>perf  </th><th style=\"text-align: right;\">  pid</th><th>policy_reward_max  </th><th>policy_reward_mean  </th><th>policy_reward_min  </th><th>sampler_perf                                                                                                                                                                                                  </th><th>sampler_results                                                                                                                                                                                                                                                                                                                                                                                                                                                                                                                                                                                                                                                                                                                                                                                                                                                                                                                                                                                                                                                                                                                                                                                                                                                                                                                                                                                                                                                                                                                                                                                                                                                                                                                                                                                                                                                                                                                                                                                                                                                                                                                                                                                                                                                                                               </th><th style=\"text-align: right;\">  time_since_restore</th><th style=\"text-align: right;\">  time_this_iter_s</th><th style=\"text-align: right;\">  time_total_s</th><th>timers                                                                                                                                                                            </th><th style=\"text-align: right;\">  timestamp</th><th style=\"text-align: right;\">  timesteps_since_restore</th><th style=\"text-align: right;\">  timesteps_total</th><th style=\"text-align: right;\">  training_iteration</th><th>trial_id   </th><th style=\"text-align: right;\">  warmup_time</th></tr>\n",
       "</thead>\n",
       "<tbody>\n",
       "<tr><td>PPO_compiler_gym_131a8_00000</td><td style=\"text-align: right;\">                   9500</td><td>{&#x27;num_env_steps_sampled&#x27;: 9500, &#x27;num_env_steps_trained&#x27;: 9500, &#x27;num_agent_steps_sampled&#x27;: 9500, &#x27;num_agent_steps_trained&#x27;: 9500}</td><td>{}              </td><td>2024-01-28_12-23-10</td><td>False </td><td style=\"text-align: right;\">               100</td><td>{}             </td><td style=\"text-align: right;\">             1.08969</td><td style=\"text-align: right;\">             0.835251</td><td style=\"text-align: right;\">                   0</td><td style=\"text-align: right;\">                   1</td><td style=\"text-align: right;\">              95</td><td>abb3d5a5e5a54ee18f080774d8483156</td><td style=\"text-align: right;\">               0</td><td>debian    </td><td>{&#x27;learner&#x27;: {&#x27;default_policy&#x27;: {&#x27;learner_stats&#x27;: {&#x27;allreduce_latency&#x27;: 0.0, &#x27;grad_gnorm&#x27;: 0.035421038261544406, &#x27;cur_kl_coeff&#x27;: 0.0, &#x27;cur_lr&#x27;: 4.999999999999999e-05, &#x27;total_loss&#x27;: 5.830952828277438e-05, &#x27;policy_loss&#x27;: 0.0, &#x27;vf_loss&#x27;: 5.830952828277438e-05, &#x27;vf_explained_var&#x27;: -1.0, &#x27;kl&#x27;: 1.7128623013007437e-09, &#x27;entropy&#x27;: 0.00030612235617203016, &#x27;entropy_coeff&#x27;: 0.0}, &#x27;model&#x27;: {}, &#x27;custom_metrics&#x27;: {}, &#x27;num_agent_steps_trained&#x27;: 5.0, &#x27;num_grad_updates_lifetime&#x27;: 56985.5, &#x27;diff_num_grad_updates_vs_sampler_policy&#x27;: 14.5}}, &#x27;num_env_steps_sampled&#x27;: 9500, &#x27;num_env_steps_trained&#x27;: 9500, &#x27;num_agent_steps_sampled&#x27;: 9500, &#x27;num_agent_steps_trained&#x27;: 9500}</td><td style=\"text-align: right;\">                      1900</td><td>192.168.0.12</td><td style=\"text-align: right;\">                     9500</td><td style=\"text-align: right;\">                     9500</td><td style=\"text-align: right;\">                   9500</td><td style=\"text-align: right;\">                                5</td><td style=\"text-align: right;\">                   9500</td><td style=\"text-align: right;\">                                5</td><td style=\"text-align: right;\">                    0</td><td style=\"text-align: right;\">                    1</td><td style=\"text-align: right;\">                         0</td><td style=\"text-align: right;\">                           0</td><td style=\"text-align: right;\">                            5</td><td>{}    </td><td style=\"text-align: right;\"> 8224</td><td>{}                 </td><td>{}                  </td><td>{}                 </td><td>{&#x27;mean_raw_obs_processing_ms&#x27;: 4.823258006712416, &#x27;mean_inference_ms&#x27;: 5.619667996760971, &#x27;mean_action_processing_ms&#x27;: 0.31677730080241623, &#x27;mean_env_wait_ms&#x27;: 2.7842324865180443, &#x27;mean_env_render_ms&#x27;: 0.0}</td><td>{&#x27;episode_reward_max&#x27;: 1.0896860986547083, &#x27;episode_reward_min&#x27;: 0.0, &#x27;episode_reward_mean&#x27;: 0.8352514876889265, &#x27;episode_len_mean&#x27;: 100.0, &#x27;episode_media&#x27;: {}, &#x27;episodes_this_iter&#x27;: 1, &#x27;policy_reward_min&#x27;: {}, &#x27;policy_reward_max&#x27;: {}, &#x27;policy_reward_mean&#x27;: {}, &#x27;custom_metrics&#x27;: {}, &#x27;hist_stats&#x27;: {&#x27;episode_reward&#x27;: [0.9436619718309858, 0.7889908256880734, 0.7417582417582419, 1.0, 0.9999999999999999, 0.0, 1.0, 0.9888888888888889, 0.9705882352941176, 0.0, 1.0, 1.0, 1.0, 1.0, 1.0896860986547083, 0.994949494949495, 1.0681818181818186, 1.0, 1.0, 0.9999999999999999, 0.9333333333333333, 0.908256880733945, 0.9904761904761904, 1.0, 0.9642857142857143, 1.0, 1.0, 0.9928057553956834, 1.0, 0.9082568807339451, 0.8, 0.8571428571428571, 1.0, 1.0, 1.0, 0.0, 1.0, 0.875, 0.54, 1.0, 0.8571428571428571, 1.0, 0.9259259259259258, 0.875, 0.7868852459016393, 0.9493670886075949, 1.0, 1.0, 1.0, 1.0, 1.0, 0.3181818181818182, 0.9720279720279721, 1.0, 1.0, 0.9257425742574258, 0.5102040816326531, 0.9047619047619048, 0.0, 0.8131868131868132, 0.4666666666666667, 0.8188976377952756, 1.0, 1.0, 1.0, 0.875, 0.875, 0.7272727272727273, 0.5666666666666667, 0.40625, 0.9476744186046512, 0.8916666666666667, 0.7794117647058824, 1.0, 0.8740740740740741, 0.6666666666666666, 1.0, 0.782608695652174, 0.9166666666666666, 0.2605633802816901, 0.9, 0.7419354838709677, 0.826530612244898, 0.5625, 0.8888888888888888, 0.796875, 0.8082191780821918, 1.0, 1.0, 0.6875, 0.0, 0.56, 1.0, 0.86, 0.6666666666666666], &#x27;episode_lengths&#x27;: [100, 100, 100, 100, 100, 100, 100, 100, 100, 100, 100, 100, 100, 100, 100, 100, 100, 100, 100, 100, 100, 100, 100, 100, 100, 100, 100, 100, 100, 100, 100, 100, 100, 100, 100, 100, 100, 100, 100, 100, 100, 100, 100, 100, 100, 100, 100, 100, 100, 100, 100, 100, 100, 100, 100, 100, 100, 100, 100, 100, 100, 100, 100, 100, 100, 100, 100, 100, 100, 100, 100, 100, 100, 100, 100, 100, 100, 100, 100, 100, 100, 100, 100, 100, 100, 100, 100, 100, 100, 100, 100, 100, 100, 100, 100]}, &#x27;sampler_perf&#x27;: {&#x27;mean_raw_obs_processing_ms&#x27;: 4.823258006712416, &#x27;mean_inference_ms&#x27;: 5.619667996760971, &#x27;mean_action_processing_ms&#x27;: 0.31677730080241623, &#x27;mean_env_wait_ms&#x27;: 2.7842324865180443, &#x27;mean_env_render_ms&#x27;: 0.0}, &#x27;num_faulty_episodes&#x27;: 0}</td><td style=\"text-align: right;\">              1067.7</td><td style=\"text-align: right;\">          0.304872</td><td style=\"text-align: right;\">        1067.7</td><td>{&#x27;training_iteration_time_ms&#x27;: 229.875, &#x27;load_time_ms&#x27;: 0.238, &#x27;load_throughput&#x27;: 20973.617, &#x27;learn_time_ms&#x27;: 202.232, &#x27;learn_throughput&#x27;: 24.724, &#x27;synch_weights_time_ms&#x27;: 1.542}</td><td style=\"text-align: right;\"> 1706433790</td><td style=\"text-align: right;\">                        0</td><td style=\"text-align: right;\">             9500</td><td style=\"text-align: right;\">                1900</td><td>131a8_00000</td><td style=\"text-align: right;\">        10.53</td></tr>\n",
       "</tbody>\n",
       "</table>\n",
       "</div>\n",
       "<style>\n",
       ".trialProgress {\n",
       "  display: flex;\n",
       "  flex-direction: column;\n",
       "  color: var(--jp-ui-font-color1);\n",
       "}\n",
       ".trialProgress h3 {\n",
       "  font-weight: bold;\n",
       "}\n",
       ".trialProgress td {\n",
       "  white-space: nowrap;\n",
       "}\n",
       "</style>\n"
      ],
      "text/plain": [
       "<IPython.core.display.HTML object>"
      ]
     },
     "metadata": {},
     "output_type": "display_data"
    },
    {
     "name": "stderr",
     "output_type": "stream",
     "text": [
      "2024-01-28 12:23:10,831\tERROR trial_runner.py:1088 -- Trial PPO_compiler_gym_131a8_00000: Error processing event.\n",
      "ray.exceptions.RayTaskError(ValueError): \u001b[36mray::PPO.train()\u001b[39m (pid=8224, ip=192.168.0.12, repr=PPO)\n",
      "  File \"/home/flint/diplom/experiments/venv/lib/python3.9/site-packages/ray/tune/trainable/trainable.py\", line 367, in train\n",
      "    raise skipped from exception_cause(skipped)\n",
      "  File \"/home/flint/diplom/experiments/venv/lib/python3.9/site-packages/ray/tune/trainable/trainable.py\", line 364, in train\n",
      "    result = self.step()\n",
      "  File \"/home/flint/diplom/experiments/venv/lib/python3.9/site-packages/ray/rllib/algorithms/algorithm.py\", line 749, in step\n",
      "    results, train_iter_ctx = self._run_one_training_iteration()\n",
      "  File \"/home/flint/diplom/experiments/venv/lib/python3.9/site-packages/ray/rllib/algorithms/algorithm.py\", line 2623, in _run_one_training_iteration\n",
      "    results = self.training_step()\n",
      "  File \"/home/flint/diplom/experiments/venv/lib/python3.9/site-packages/ray/rllib/algorithms/ppo/ppo.py\", line 318, in training_step\n",
      "    train_batch = synchronous_parallel_sample(\n",
      "  File \"/home/flint/diplom/experiments/venv/lib/python3.9/site-packages/ray/rllib/execution/rollout_ops.py\", line 85, in synchronous_parallel_sample\n",
      "    sample_batches = worker_set.foreach_worker(\n",
      "  File \"/home/flint/diplom/experiments/venv/lib/python3.9/site-packages/ray/rllib/evaluation/worker_set.py\", line 696, in foreach_worker\n",
      "    handle_remote_call_result_errors(remote_results, self._ignore_worker_failures)\n",
      "  File \"/home/flint/diplom/experiments/venv/lib/python3.9/site-packages/ray/rllib/evaluation/worker_set.py\", line 73, in handle_remote_call_result_errors\n",
      "    raise r.get()\n",
      "ray.exceptions.RayTaskError(ValueError): \u001b[36mray::RolloutWorker.apply()\u001b[39m (pid=8272, ip=192.168.0.12, repr=<ray.rllib.evaluation.rollout_worker.RolloutWorker object at 0x7fc0191653a0>)\n",
      "  File \"/home/flint/diplom/experiments/venv/lib/python3.9/site-packages/ray/rllib/utils/actor_manager.py\", line 183, in apply\n",
      "    raise e\n",
      "  File \"/home/flint/diplom/experiments/venv/lib/python3.9/site-packages/ray/rllib/utils/actor_manager.py\", line 174, in apply\n",
      "    return func(self, *args, **kwargs)\n",
      "  File \"/home/flint/diplom/experiments/venv/lib/python3.9/site-packages/ray/rllib/execution/rollout_ops.py\", line 86, in <lambda>\n",
      "    lambda w: w.sample(), local_worker=False, healthy_only=True\n",
      "  File \"/home/flint/diplom/experiments/venv/lib/python3.9/site-packages/ray/rllib/evaluation/rollout_worker.py\", line 900, in sample\n",
      "    batches = [self.input_reader.next()]\n",
      "  File \"/home/flint/diplom/experiments/venv/lib/python3.9/site-packages/ray/rllib/evaluation/sampler.py\", line 92, in next\n",
      "    batches = [self.get_data()]\n",
      "  File \"/home/flint/diplom/experiments/venv/lib/python3.9/site-packages/ray/rllib/evaluation/sampler.py\", line 285, in get_data\n",
      "    item = next(self._env_runner)\n",
      "  File \"/home/flint/diplom/experiments/venv/lib/python3.9/site-packages/ray/rllib/evaluation/sampler.py\", line 671, in _env_runner\n",
      "    active_envs, to_eval, outputs = _process_observations(\n",
      "  File \"/home/flint/diplom/experiments/venv/lib/python3.9/site-packages/ray/rllib/evaluation/sampler.py\", line 922, in _process_observations\n",
      "    prep_obs = preprocessor.transform(raw_obs)\n",
      "  File \"/home/flint/diplom/experiments/venv/lib/python3.9/site-packages/ray/rllib/models/preprocessors.py\", line 206, in transform\n",
      "    self.check_shape(observation)\n",
      "  File \"/home/flint/diplom/experiments/venv/lib/python3.9/site-packages/ray/rllib/models/preprocessors.py\", line 74, in check_shape\n",
      "    raise ValueError(\n",
      "ValueError: Observation ([0.33333334 1.3333334  0.33333334 0.         0.         0.\n",
      " 0.         0.         0.         0.         0.         0.\n",
      " 0.         0.         0.         0.         0.         0.\n",
      " 0.         0.         0.         0.         0.         0.\n",
      " 0.         0.         0.         0.         0.         0.\n",
      " 0.         0.         0.         0.         0.         0.\n",
      " 0.         0.         0.         0.         0.         0.\n",
      " 0.         0.         0.         0.         0.         0.\n",
      " 0.         0.         0.33333334 0.         0.         0.\n",
      " 0.         0.         0.         0.33333334 0.         0.\n",
      " 0.         0.         0.         0.         0.         0.\n",
      " 0.         0.         0.        ] dtype=float32) outside given space (Box([0. 0. 0. 0. 0. 0. 0. 0. 0. 0. 0. 0. 0. 0. 0. 0. 0. 0. 0. 0. 0. 0. 0. 0.\n",
      " 0. 0. 0. 0. 0. 0. 0. 0. 0. 0. 0. 0. 0. 0. 0. 0. 0. 0. 0. 0. 0. 0. 0. 0.\n",
      " 0. 0. 0. 0. 0. 0. 0. 0. 0. 0. 0. 0. 0. 0. 0. 0. 0. 0. 0. 0. 0.], [1. 1. 1. 1. 1. 1. 1. 1. 1. 1. 1. 1. 1. 1. 1. 1. 1. 1. 1. 1. 1. 1. 1. 1.\n",
      " 1. 1. 1. 1. 1. 1. 1. 1. 1. 1. 1. 1. 1. 1. 1. 1. 1. 1. 1. 1. 1. 1. 1. 1.\n",
      " 1. 1. 1. 1. 1. 1. 1. 1. 1. 1. 1. 1. 1. 1. 1. 1. 1. 1. 1. 1. 1.], (69,), float32))!\n"
     ]
    },
    {
     "ename": "TuneError",
     "evalue": "('Trials did not complete', [PPO_compiler_gym_131a8_00000])",
     "output_type": "error",
     "traceback": [
      "\u001b[0;31m---------------------------------------------------------------------------\u001b[0m",
      "\u001b[0;31mTuneError\u001b[0m                                 Traceback (most recent call last)",
      "Cell \u001b[0;32mIn[15], line 1\u001b[0m\n\u001b[0;32m----> 1\u001b[0m analysis \u001b[38;5;241m=\u001b[39m \u001b[43mtune\u001b[49m\u001b[38;5;241;43m.\u001b[39;49m\u001b[43mrun\u001b[49m\u001b[43m(\u001b[49m\n\u001b[1;32m      2\u001b[0m \u001b[43m    \u001b[49m\u001b[38;5;124;43m\"\u001b[39;49m\u001b[38;5;124;43mPPO\u001b[39;49m\u001b[38;5;124;43m\"\u001b[39;49m\u001b[43m,\u001b[49m\n\u001b[1;32m      3\u001b[0m \u001b[43m    \u001b[49m\u001b[43mcheckpoint_at_end\u001b[49m\u001b[38;5;241;43m=\u001b[39;49m\u001b[38;5;28;43;01mTrue\u001b[39;49;00m\u001b[43m,\u001b[49m\n\u001b[1;32m      4\u001b[0m \u001b[43m    \u001b[49m\u001b[43mstop\u001b[49m\u001b[38;5;241;43m=\u001b[39;49m\u001b[43m{\u001b[49m\n\u001b[1;32m      5\u001b[0m \u001b[43m        \u001b[49m\u001b[38;5;124;43m\"\u001b[39;49m\u001b[38;5;124;43mepisodes_total\u001b[39;49m\u001b[38;5;124;43m\"\u001b[39;49m\u001b[43m:\u001b[49m\u001b[43m \u001b[49m\u001b[38;5;241;43m100\u001b[39;49m\u001b[43m,\u001b[49m\n\u001b[1;32m      6\u001b[0m \u001b[43m    \u001b[49m\u001b[43m}\u001b[49m\u001b[43m,\u001b[49m\n\u001b[1;32m      7\u001b[0m \u001b[43m    \u001b[49m\u001b[43mmax_concurrent_trials\u001b[49m\u001b[38;5;241;43m=\u001b[39;49m\u001b[38;5;241;43m1\u001b[39;49m\u001b[43m,\u001b[49m\n\u001b[1;32m      8\u001b[0m \u001b[43m    \u001b[49m\u001b[43mconfig\u001b[49m\u001b[38;5;241;43m=\u001b[39;49m\u001b[43m{\u001b[49m\n\u001b[1;32m      9\u001b[0m \u001b[43m        \u001b[49m\u001b[38;5;124;43m\"\u001b[39;49m\u001b[38;5;124;43mseed\u001b[39;49m\u001b[38;5;124;43m\"\u001b[39;49m\u001b[43m:\u001b[49m\u001b[43m \u001b[49m\u001b[38;5;241;43m0xCC\u001b[39;49m\u001b[43m,\u001b[49m\n\u001b[1;32m     10\u001b[0m \u001b[43m        \u001b[49m\u001b[38;5;124;43m\"\u001b[39;49m\u001b[38;5;124;43mnum_workers\u001b[39;49m\u001b[38;5;124;43m\"\u001b[39;49m\u001b[43m:\u001b[49m\u001b[43m \u001b[49m\u001b[38;5;241;43m1\u001b[39;49m\u001b[43m,\u001b[49m\n\u001b[1;32m     11\u001b[0m \u001b[43m        \u001b[49m\u001b[38;5;124;43m\"\u001b[39;49m\u001b[38;5;124;43menv\u001b[39;49m\u001b[38;5;124;43m\"\u001b[39;49m\u001b[43m:\u001b[49m\u001b[43m \u001b[49m\u001b[38;5;124;43m\"\u001b[39;49m\u001b[38;5;124;43mcompiler_gym\u001b[39;49m\u001b[38;5;124;43m\"\u001b[39;49m\u001b[43m,\u001b[49m\n\u001b[1;32m     12\u001b[0m \u001b[43m        \u001b[49m\u001b[38;5;124;43m\"\u001b[39;49m\u001b[38;5;124;43mrollout_fragment_length\u001b[39;49m\u001b[38;5;124;43m\"\u001b[39;49m\u001b[43m:\u001b[49m\u001b[43m \u001b[49m\u001b[38;5;241;43m5\u001b[39;49m\u001b[43m,\u001b[49m\n\u001b[1;32m     13\u001b[0m \u001b[43m        \u001b[49m\u001b[38;5;124;43m\"\u001b[39;49m\u001b[38;5;124;43mtrain_batch_size\u001b[39;49m\u001b[38;5;124;43m\"\u001b[39;49m\u001b[43m:\u001b[49m\u001b[43m \u001b[49m\u001b[38;5;241;43m5\u001b[39;49m\u001b[43m,\u001b[49m\n\u001b[1;32m     14\u001b[0m \u001b[43m        \u001b[49m\u001b[38;5;124;43m\"\u001b[39;49m\u001b[38;5;124;43msgd_minibatch_size\u001b[39;49m\u001b[38;5;124;43m\"\u001b[39;49m\u001b[43m:\u001b[49m\u001b[43m \u001b[49m\u001b[38;5;241;43m5\u001b[39;49m\u001b[43m,\u001b[49m\n\u001b[1;32m     15\u001b[0m \u001b[43m        \u001b[49m\u001b[38;5;124;43m\"\u001b[39;49m\u001b[38;5;124;43mframework\u001b[39;49m\u001b[38;5;124;43m\"\u001b[39;49m\u001b[43m:\u001b[49m\u001b[43m \u001b[49m\u001b[38;5;124;43m\"\u001b[39;49m\u001b[38;5;124;43mtorch\u001b[39;49m\u001b[38;5;124;43m\"\u001b[39;49m\u001b[43m,\u001b[49m\n\u001b[1;32m     16\u001b[0m \u001b[43m    \u001b[49m\u001b[43m}\u001b[49m\u001b[43m,\u001b[49m\n\u001b[1;32m     17\u001b[0m \u001b[43m)\u001b[49m\n",
      "File \u001b[0;32m~/diplom/experiments/venv/lib/python3.9/site-packages/ray/tune/tune.py:756\u001b[0m, in \u001b[0;36mrun\u001b[0;34m(run_or_experiment, name, metric, mode, stop, time_budget_s, config, resources_per_trial, num_samples, local_dir, search_alg, scheduler, keep_checkpoints_num, checkpoint_score_attr, checkpoint_freq, checkpoint_at_end, verbose, progress_reporter, log_to_file, trial_name_creator, trial_dirname_creator, chdir_to_trial_dir, sync_config, export_formats, max_failures, fail_fast, restore, server_port, resume, reuse_actors, trial_executor, raise_on_failed_trial, callbacks, max_concurrent_trials, _experiment_checkpoint_dir, _remote, _remote_string_queue)\u001b[0m\n\u001b[1;32m    754\u001b[0m \u001b[38;5;28;01mif\u001b[39;00m incomplete_trials:\n\u001b[1;32m    755\u001b[0m     \u001b[38;5;28;01mif\u001b[39;00m raise_on_failed_trial \u001b[38;5;129;01mand\u001b[39;00m \u001b[38;5;129;01mnot\u001b[39;00m state[\u001b[38;5;124m\"\u001b[39m\u001b[38;5;124msignal\u001b[39m\u001b[38;5;124m\"\u001b[39m]:\n\u001b[0;32m--> 756\u001b[0m         \u001b[38;5;28;01mraise\u001b[39;00m TuneError(\u001b[38;5;124m\"\u001b[39m\u001b[38;5;124mTrials did not complete\u001b[39m\u001b[38;5;124m\"\u001b[39m, incomplete_trials)\n\u001b[1;32m    757\u001b[0m     \u001b[38;5;28;01melse\u001b[39;00m:\n\u001b[1;32m    758\u001b[0m         logger\u001b[38;5;241m.\u001b[39merror(\u001b[38;5;124m\"\u001b[39m\u001b[38;5;124mTrials did not complete: \u001b[39m\u001b[38;5;132;01m%s\u001b[39;00m\u001b[38;5;124m\"\u001b[39m, incomplete_trials)\n",
      "\u001b[0;31mTuneError\u001b[0m: ('Trials did not complete', [PPO_compiler_gym_131a8_00000])"
     ]
    },
    {
     "name": "stdout",
     "output_type": "stream",
     "text": [
      "> \u001b[0;32m/home/flint/diplom/experiments/venv/lib/python3.9/site-packages/ray/tune/tune.py\u001b[0m(756)\u001b[0;36mrun\u001b[0;34m()\u001b[0m\n",
      "\u001b[0;32m    754 \u001b[0;31m    \u001b[0;32mif\u001b[0m \u001b[0mincomplete_trials\u001b[0m\u001b[0;34m:\u001b[0m\u001b[0;34m\u001b[0m\u001b[0;34m\u001b[0m\u001b[0m\n",
      "\u001b[0m\u001b[0;32m    755 \u001b[0;31m        \u001b[0;32mif\u001b[0m \u001b[0mraise_on_failed_trial\u001b[0m \u001b[0;32mand\u001b[0m \u001b[0;32mnot\u001b[0m \u001b[0mstate\u001b[0m\u001b[0;34m[\u001b[0m\u001b[0;34m\"signal\"\u001b[0m\u001b[0;34m]\u001b[0m\u001b[0;34m:\u001b[0m\u001b[0;34m\u001b[0m\u001b[0;34m\u001b[0m\u001b[0m\n",
      "\u001b[0m\u001b[0;32m--> 756 \u001b[0;31m            \u001b[0;32mraise\u001b[0m \u001b[0mTuneError\u001b[0m\u001b[0;34m(\u001b[0m\u001b[0;34m\"Trials did not complete\"\u001b[0m\u001b[0;34m,\u001b[0m \u001b[0mincomplete_trials\u001b[0m\u001b[0;34m)\u001b[0m\u001b[0;34m\u001b[0m\u001b[0;34m\u001b[0m\u001b[0m\n",
      "\u001b[0m\u001b[0;32m    757 \u001b[0;31m        \u001b[0;32melse\u001b[0m\u001b[0;34m:\u001b[0m\u001b[0;34m\u001b[0m\u001b[0;34m\u001b[0m\u001b[0m\n",
      "\u001b[0m\u001b[0;32m    758 \u001b[0;31m            \u001b[0mlogger\u001b[0m\u001b[0;34m.\u001b[0m\u001b[0merror\u001b[0m\u001b[0;34m(\u001b[0m\u001b[0;34m\"Trials did not complete: %s\"\u001b[0m\u001b[0;34m,\u001b[0m \u001b[0mincomplete_trials\u001b[0m\u001b[0;34m)\u001b[0m\u001b[0;34m\u001b[0m\u001b[0;34m\u001b[0m\u001b[0m\n",
      "\u001b[0m\n"
     ]
    }
   ],
   "source": [
    "analysis = tune.run(\n",
    "    \"PPO\",\n",
    "    checkpoint_at_end=True,\n",
    "    stop={\n",
    "        \"episodes_total\": 100,\n",
    "    },\n",
    "    max_concurrent_trials=1,\n",
    "    config={\n",
    "        \"seed\": 0xCC,\n",
    "        \"num_workers\": 1,\n",
    "        \"env\": \"compiler_gym\",\n",
    "        \"rollout_fragment_length\": 5,\n",
    "        \"train_batch_size\": 5,\n",
    "        \"sgd_minibatch_size\": 5,\n",
    "        \"framework\": \"torch\",\n",
    "        \"resources\": {\n",
    "            \"num_gpus_per_worker\": 1,\n",
    "        }\n",
    "    },\n",
    ")"
   ]
  },
  {
   "cell_type": "code",
   "execution_count": 14,
   "id": "75d8e484-e758-4d4a-ad35-236fe26dc3f4",
   "metadata": {},
   "outputs": [
    {
     "name": "stdout",
     "output_type": "stream",
     "text": [
      "Automatic pdb calling has been turned ON\n"
     ]
    }
   ],
   "source": [
    "%pdb"
   ]
  },
  {
   "cell_type": "code",
   "execution_count": null,
   "id": "102e8a60-757b-4b4d-b851-fa260d3f8ac1",
   "metadata": {},
   "outputs": [],
   "source": [
    "agent = PPO(\n",
    "    env=\"compiler_gym\",\n",
    "    config={\n",
    "        \"num_workers\": 1,\n",
    "        \"seed\": 0xCC,\n",
    "        \"explore\": False,\n",
    "        \"framework\": \"torch\",\n",
    "    },\n",
    ")"
   ]
  },
  {
   "cell_type": "code",
   "execution_count": null,
   "id": "24cc2800-0008-4a24-83ae-f4bda1f39006",
   "metadata": {},
   "outputs": [],
   "source": [
    "checkpoint = analysis.get_best_checkpoint(\n",
    "    metric=\"episode_reward_mean\", mode=\"max\", trial=analysis.trials[0]\n",
    ")"
   ]
  },
  {
   "cell_type": "code",
   "execution_count": null,
   "id": "a5c626ee-a797-4030-860d-c70d0a52637d",
   "metadata": {},
   "outputs": [],
   "source": [
    "agent.restore(checkpoint)"
   ]
  },
  {
   "cell_type": "code",
   "execution_count": null,
   "id": "59e0afb6-c051-4d90-99a1-370838365757",
   "metadata": {
    "scrolled": true
   },
   "outputs": [],
   "source": [
    "# val_rewards = run_agent_on_benchmarks(val_benchmarks)\n",
    "# test_rewards = run_agent_on_benchmarks(test_benchmarks)"
   ]
  },
  {
   "cell_type": "code",
   "execution_count": null,
   "id": "8709d7be-7163-462d-960c-15b5a69055e2",
   "metadata": {
    "scrolled": true
   },
   "outputs": [],
   "source": [
    "test_rewards = run_agent_on_benchmarks(test_benchmarks)"
   ]
  },
  {
   "cell_type": "code",
   "execution_count": null,
   "id": "99f835ba-6e6e-4c3d-b59a-2746bbaaeeb8",
   "metadata": {},
   "outputs": [],
   "source": [
    "fig, (ax1, ax2) = plt.subplots(1, 2)\n",
    "fig.set_size_inches(13, 3)\n",
    "# plot_results(val_benchmarks, val_rewards, \"val\", ax1)\n",
    "plot_results(test_benchmarks, test_rewards, \"test\", ax2)\n",
    "plt.show()"
   ]
  },
  {
   "cell_type": "code",
   "execution_count": null,
   "id": "de3846d9-0fb3-461d-9b48-c20269ba0789",
   "metadata": {},
   "outputs": [],
   "source": []
  }
 ],
 "metadata": {
  "kernelspec": {
   "display_name": "diplom_venv",
   "language": "python",
   "name": "diplom_venv"
  },
  "language_info": {
   "codemirror_mode": {
    "name": "ipython",
    "version": 3
   },
   "file_extension": ".py",
   "mimetype": "text/x-python",
   "name": "python",
   "nbconvert_exporter": "python",
   "pygments_lexer": "ipython3",
   "version": "3.9.2"
  }
 },
 "nbformat": 4,
 "nbformat_minor": 5
}
